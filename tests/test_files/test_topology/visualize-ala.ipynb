{
  "cells": [
    {
      "cell_type": "raw",
      "metadata": {},
      "source": [
        "---\n",
        "title: Ala topology\n",
        "format: html\n",
        "mermaid-format: svg\n",
        "execute:\n",
        "  warning: false\n",
        "  echo: true\n",
        "---"
      ],
      "id": "9635a35a"
    },
    {
      "cell_type": "markdown",
      "metadata": {},
      "source": [
        "# Ala\n"
      ],
      "id": "415c6d9d"
    },
    {
      "cell_type": "code",
      "metadata": {},
      "source": [
        "from kimmdy.parsing import read_topol\n",
        "from kimmdy.topology.topology import Topology\n",
        "from pathlib import Path\n",
        "from kimmdy.misc_helper import top_to_graph"
      ],
      "id": "da9888e5",
      "execution_count": null,
      "outputs": []
    },
    {
      "cell_type": "code",
      "metadata": {},
      "source": [
        "#| eval: false\n",
        "ala_top = read_topol(Path('../../../example/example_ala/Ala_out.top'))\n",
        "ala_top_mod = read_topol(Path('../../../example/example_ala/hat_tf_015/5_recipe/topol_mod.top'))\n",
        "ffdir = Path(\"../assets/amber99sb-star-ildnp.ff\")\n",
        "ffpatch = Path('amber99sb_patches.xml')\n",
        "top = Topology(ala_top, ffdir, ffpatch)\n",
        "top_mod = Topology(ala_top_mod, ffdir, ffpatch)\n",
        "\n",
        "ls = top_to_graph(top) \n",
        "with open(\"ala-top.dot\", \"w\") as f:\n",
        "  f.writelines(ls)\n",
        "\n",
        "ls = top_to_graph(top_mod) \n",
        "with open(\"ala-top-mod.dot\", \"w\") as f:\n",
        "  f.writelines(ls)"
      ],
      "id": "ebd8cb71",
      "execution_count": null,
      "outputs": []
    },
    {
      "cell_type": "markdown",
      "metadata": {},
      "source": [
        "Top, Ala and\n",
        "\n",
        "Top, Ala after\n",
        "\n",
        "`Recipe: [Conversion(type=<ConversionType.BREAK: 1>, atom_idx=('12', '10')), Conversion(type=<ConversionType.BIND: 2>, atom_idx=('12', '9'))]`\n",
        "\n",
        "Problem: \n",
        "\n",
        "```\n",
        "ERROR 1 [file topol_mod.top, line 126]:\n",
        "  No default Angle types\n",
        "\n",
        "See:\n",
        "7        9        12       1       \n",
        "\n",
        "\n",
        "7        N        2        ALA      N        7        -0.4157  14.01   \n",
        "9        CT       2        ALA      CA       9        0.1160   12.01   \n",
        "12       HC       2        ALA      HB2      12       0.0603   1.008   \n",
        "\n",
        "N CT HC\n",
        "```\n",
        "\n",
        "\n",
        "\n",
        ":::: {#fig-label layout=\"[[1,1]]\"}\n",
        "\n",
        "\n",
        "```{dot}\n",
        "//| echo: false\n",
        "//| label: fig-ala\n",
        "//| fig-cap: \"A diagram of the ala topology\"\n",
        "//| file: ala-top.dot\n",
        "```\n",
        "\n",
        "```{dot}\n",
        "//| echo: false\n",
        "//| label: fig-ala-mod\n",
        "//| fig-cap: \"A diagram of the ala-mod topology\"\n",
        "//| file: ala-top-mod.dot\n",
        "```\n",
        "\n",
        "\n",
        "caption\n",
        "::::\n",
        "\n",
        "# TriAla\n"
      ],
      "id": "a5410703"
    },
    {
      "cell_type": "code",
      "metadata": {},
      "source": [
        "from kimmdy.parsing import read_topol\n",
        "from kimmdy.topology.topology import Topology\n",
        "from pathlib import Path\n",
        "from kimmdy.misc_helper import top_to_graph"
      ],
      "id": "9dfa55b7",
      "execution_count": null,
      "outputs": []
    },
    {
      "cell_type": "code",
      "metadata": {},
      "source": [
        "ala_top = read_topol(Path('../../../example/example_triala/test_out_008/4_recipe/topol_mod.top'))\n",
        "ala_top_mod = read_topol(Path('../../../example/example_triala/test_out_008/9_recipe/topol_mod.top'))\n",
        "ffdir = Path(\"../assets/amber99sb-star-ildnp.ff\")\n",
        "ffpatch = Path('amber99sb_patches.xml')\n",
        "top = Topology(ala_top, ffdir, ffpatch)\n",
        "top_mod = Topology(ala_top_mod, ffdir, ffpatch)\n",
        "\n",
        "ls = top_to_graph(top) \n",
        "with open(\"triala-top.dot\", \"w\") as f:\n",
        "  f.writelines(ls)\n",
        "\n",
        "ls = top_to_graph(top_mod) \n",
        "with open(\"triala-top-mod.dot\", \"w\") as f:\n",
        "  f.writelines(ls)"
      ],
      "id": "24773c57",
      "execution_count": null,
      "outputs": []
    },
    {
      "cell_type": "markdown",
      "metadata": {},
      "source": [
        "```\n",
        "ERROR 1 [file topol_mod.top, line 249]:\n",
        "  No default Angle types\n",
        "\n",
        "ERROR 2 [file topol_mod.top, line 250]:\n",
        "  No default Angle types\n",
        "\n",
        "\n",
        "21       20       22       1       \n",
        "21       20       23       1       \n",
        "\n",
        "\n",
        "20       CT       3        ALA      CB       20       -0.1825  12.01   \n",
        "21       H1       3        ALA      HB1      21       0.0603   1.008   \n",
        "22       HC       3        ALA      HB2      22       0.0603   1.008   \n",
        "23       HC       3        ALA      HB3      23       0.0603   1.008   \n",
        "```\n",
        "\n",
        ":::: {#fig-label layout=\"[[1,1]]\"}\n",
        "\n",
        "\n",
        "```{dot}\n",
        "//| echo: false\n",
        "//| label: fig-triala\n",
        "//| fig-cap: \"A diagram of the ala topology\"\n",
        "//| file: triala-top.dot\n",
        "```\n",
        "\n",
        "```{dot}\n",
        "//| echo: false\n",
        "//| label: fig-triala-mod\n",
        "//| fig-cap: \"A diagram of the ala-mod topology\"\n",
        "//| file: triala-top-mod.dot\n",
        "```\n",
        "\n",
        "\n",
        "caption\n",
        "::::\n"
      ],
      "id": "d12cb208"
    }
  ],
  "metadata": {
    "kernelspec": {
      "name": "python3",
      "language": "python",
      "display_name": "Python 3 (ipykernel)"
    }
  },
  "nbformat": 4,
  "nbformat_minor": 5
}
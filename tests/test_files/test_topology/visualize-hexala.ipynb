{
  "cells": [
    {
      "cell_type": "raw",
      "metadata": {},
      "source": [
        "---\n",
        "title: Hexala topology\n",
        "format: html\n",
        "mermaid-format: svg\n",
        "execute:\n",
        "  warning: false\n",
        "  echo: true\n",
        "---"
      ],
      "id": "560889b1"
    },
    {
      "cell_type": "markdown",
      "metadata": {},
      "source": [
        "# Hexala\n"
      ],
      "id": "966e4fab"
    },
    {
      "cell_type": "code",
      "metadata": {},
      "source": [
        "from kimmdy.parsing import read_topol\n",
        "from kimmdy.topology.topology import Topology\n",
        "from pathlib import Path\n",
        "from kimmdy.misc_helper import top_to_graph"
      ],
      "id": "344b56c6",
      "execution_count": null,
      "outputs": []
    },
    {
      "cell_type": "code",
      "metadata": {},
      "source": [
        "hexala_top = read_topol(Path('hexala.top'))\n",
        "hexala_break_29_35 = read_topol(Path(\"hexala_break29-35.top\"))\n",
        "hexala_move_34_39 = read_topol(Path(\"hexala_move34-29.top\"))\n",
        "ffdir = Path(\"../assets/amber99sb-star-ildnp.ff\")\n",
        "ffpatch = Path('amber99sb_patches.xml')\n",
        "top = Topology(hexala_top, ffdir, ffpatch)\n",
        "top_break_29_25 = Topology(hexala_break_29_35, ffdir, ffpatch)\n",
        "top_move_34_39 = Topology(hexala_move_34_39, ffdir, ffpatch)\n",
        "ala_r = read_topol(Path(\"AlaCa_R.top\"))\n",
        "top_ala_r = Topology(ala_r, ffdir, ffpatch)\n",
        "\n",
        "ls = top_to_graph(top, overlap='true') \n",
        "with open(\"hexala-top.dot\", \"w\") as f:\n",
        "  f.writelines(ls)\n",
        "\n",
        "ls = top_to_graph(top_break_29_25,overlap='false') \n",
        "with open(\"hexala-break.dot\", \"w\") as f:\n",
        "  f.writelines(ls)\n",
        "\n",
        "ls = top_to_graph(top_move_34_39,overlap='false')\n",
        "with open(\"hexala-move.dot\", \"w\") as f:\n",
        "  f.writelines(ls)\n",
        "\n",
        "ls = top_to_graph(top_ala_r,overlap='false')\n",
        "with open(\"ala-r.dot\", \"w\") as f:\n",
        "  f.writelines(ls)"
      ],
      "id": "83a83cf5",
      "execution_count": null,
      "outputs": []
    },
    {
      "cell_type": "markdown",
      "metadata": {},
      "source": [
        "## Natural\n",
        "\n",
        "\n",
        "```{dot}\n",
        "//| echo: false\n",
        "//| label: fig-hexala\n",
        "//| fig-cap: \"A diagram of the hexala topology\"\n",
        "//| file: hexala-top.dot\n",
        "//| column: page\n",
        "```\n",
        "\n",
        "\n",
        "## Modified\n",
        "\n",
        "- break: 29-35\n",
        "- move: 34-29\n",
        "\n",
        "\n",
        "```{dot}\n",
        "//| echo: false\n",
        "//| label: fig-hexala-break\n",
        "//| fig-cap: \"A diagram of the hexala topology\"\n",
        "//| file: hexala-break.dot\n",
        "//| column: page\n",
        "```\n",
        "\n",
        "```{dot}\n",
        "//| echo: false\n",
        "//| label: fig-hexala-move\n",
        "//| fig-cap: \"A diagram of the hexala topology\"\n",
        "//| file: hexala-move.dot\n",
        "//| column: page\n",
        "```\n",
        "\n",
        "\n",
        "## Ala R\n",
        "\n",
        "\n",
        "```{dot}\n",
        "//| echo: false\n",
        "//| label: fig-ala-r\n",
        "//| fig-cap: \"A diagram of the broken ala topology\"\n",
        "//| file: ala-r.dot\n",
        "//| column: page\n",
        "```"
      ],
      "id": "c646367d"
    }
  ],
  "metadata": {
    "kernelspec": {
      "name": "python3",
      "language": "python",
      "display_name": "Python 3 (ipykernel)"
    }
  },
  "nbformat": 4,
  "nbformat_minor": 5
}
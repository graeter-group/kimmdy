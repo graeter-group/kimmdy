{
  "cells": [
    {
      "cell_type": "raw",
      "metadata": {},
      "source": [
        "---\n",
        "title: Visualize Topologies\n",
        "mermaid-format: svg\n",
        "---"
      ],
      "id": "ab3a3570"
    },
    {
      "cell_type": "markdown",
      "metadata": {},
      "source": [
        "## Capped Alanine with a radical\n"
      ],
      "id": "32a24632"
    },
    {
      "cell_type": "code",
      "metadata": {},
      "source": [
        "from copy import deepcopy\n",
        "from kimmdy.parsing import read_top\n",
        "from kimmdy.topology.topology import MoleculeType, Topology\n",
        "from pathlib import Path\n",
        "from kimmdy.tools import write_top_as_dot\n",
        "from kimmdy.topology.utils import get_moleculetype_header"
      ],
      "id": "a363c45e",
      "execution_count": null,
      "outputs": []
    },
    {
      "cell_type": "code",
      "metadata": {},
      "source": [
        "#| eval: true\n",
        "ala_top = read_top(Path('../../tests/test_files/test_topology/Ala_R_prm.top'), use_gmx_dir=False)\n",
        "top = Topology(ala_top)\n",
        "\n",
        "write_top_as_dot(top, \"ala-top.dot\")"
      ],
      "id": "bfe8b735",
      "execution_count": null,
      "outputs": []
    },
    {
      "cell_type": "markdown",
      "metadata": {},
      "source": [
        "```{dot}\n",
        "//| echo: false\n",
        "//| label: fig-ala\n",
        "//| fig-cap: \"A diagram of the Ala topology\"\n",
        "//| file: ala-top.dot\n",
        "```\n",
        "\n",
        "\n",
        "## Multiple molecules\n"
      ],
      "id": "201768ab"
    },
    {
      "cell_type": "code",
      "metadata": {},
      "source": [
        "urea_dict = read_top(Path('../../tests/test_files/test_topology/urea.top'), use_gmx_dir=False)\n",
        "urea = Topology(urea_dict)\n",
        "\n",
        "write_top_as_dot(urea, \"urea-top.dot\")"
      ],
      "id": "b6c522e3",
      "execution_count": null,
      "outputs": []
    },
    {
      "cell_type": "markdown",
      "metadata": {},
      "source": [
        "```{dot}\n",
        "//| echo: false\n",
        "//| label: fig-ala\n",
        "//| fig-cap: \"Topology of one molecule of urea\"\n",
        "//| file: urea-top.dot\n",
        "```\n",
        "\n",
        "\n",
        "\n",
        "When we want to run reactions within molecules that are either\n",
        "separate moleculetypes or multiples of the same moleculetype,\n",
        "KIMMDY can combine those into a single moleculetype and\n",
        "make multiples explicit.\n",
        "\n",
        "i.e. if we have a topology with two molecules of urea\n",
        "defined as:\n",
        "\n",
        "```ini\n",
        "[ system ]\n",
        "Urea in Water\n",
        "\n",
        "[ molecules ]\n",
        ";molecule name   nr.\n",
        "Urea             2\n",
        "SOL              1000\n",
        "```\n"
      ],
      "id": "8f34882d"
    },
    {
      "cell_type": "code",
      "metadata": {},
      "source": [
        "from kimmdy.topology.utils import is_not_solvent_or_ion\n",
        "urea_dict = read_top(Path('../../tests/test_files/test_topology/urea-times-2.top'), use_gmx_dir=True)\n",
        "urea = Topology(urea_dict)\n",
        "top = urea\n",
        "\n",
        "def extract_mergable_molecules(top: Topology):\n",
        "  reactive_molecules = {}\n",
        "  new_molecules = []\n",
        "  started_merging = False\n",
        "  stopped_merging = False\n",
        "  added_reactive_molecule = False\n",
        "  for (m, n) in top.molecules.items():\n",
        "    if is_not_solvent_or_ion(m):\n",
        "      if stopped_merging:\n",
        "        m = f\"\"\"Attempting to merge a moleculetype {m} interspersed with non-merging moleculetypes.\n",
        "        Please make sure that all moleculetypes to be merged (all non-solvent molecules or ions by default)\n",
        "        are listed consecutively in the [molecules] section of the topology and in the coordinates file (.gro)\n",
        "        \"\"\"\n",
        "        raise ValueError(m)\n",
        "      started_merging = True\n",
        "      reactive_molecules[m] = int(n)\n",
        "      if not added_reactive_molecule:\n",
        "        new_molecules += [(\"Reactive\", \"1\")]\n",
        "        added_reactive_molecule = True\n",
        "    else:\n",
        "      if started_merging:\n",
        "        stopped_merging = True\n",
        "      new_molecules += [(m, n)]\n",
        "\n",
        "  top.molecules = {k: v for k, v in new_molecules}\n",
        "  return reactive_molecules\n",
        "\n",
        "molecules = extract_mergable_molecules(urea)\n",
        "\n",
        "def increment_field(l: list[str], i: int, n: int):\n",
        "  l[i] = str(int(l[i]) + n)\n",
        "  return l\n",
        "\n",
        "ATOM_ID_FIELDS = {\n",
        "  'atoms': [0,5], # atomnr, chargegroup\n",
        "  'bonds': [0, 1],\n",
        "  'angles': [0, 1, 2],\n",
        "  'dihedrals': [0, 1, 2, 3],\n",
        "  'pairs': [0, 1],\n",
        "  'position_restraints': [0],\n",
        "  'dihedral_restraints': [0, 1, 2, 3],\n",
        "}\n",
        "\n",
        "RESNR_ID_FIELDS = {\n",
        "  'atoms': [2],\n",
        "}\n",
        "\n",
        "assert molecules, \"No molecules to merge\"\n",
        "atomics = {}\n",
        "offset = 0\n",
        "for name, n in molecules.items():\n",
        "  add_atomics = top.moleculetypes[name].atomics\n",
        "  n_atoms = len(add_atomics[\"atoms\"])\n",
        "  for i in range(n):\n",
        "    for section_name, values in add_atomics.items():\n",
        "      section = deepcopy(add_atomics[section_name])\n",
        "      for line in section:\n",
        "        fields = ATOM_ID_FIELDS[section_name]\n",
        "        for field in fields:\n",
        "          increment_field(line, field, offset)\n",
        "      if atomics.get(section_name) is None:\n",
        "        atomics[section_name] = []\n",
        "      atomics[section_name] += section\n",
        "    offset += n_atoms\n",
        "  del top.moleculetypes[name]\n",
        "\n",
        "reactive_moleculetype = MoleculeType((\"Reactive\", \"1\"), atomics)\n",
        "top.moleculetypes[\"Reactive\"] = reactive_moleculetype\n",
        "\n",
        "top._update_dict()"
      ],
      "id": "924c7b06",
      "execution_count": null,
      "outputs": []
    },
    {
      "cell_type": "code",
      "metadata": {},
      "source": [
        "write_top_as_dot(urea, \"urea-2-top.dot\")"
      ],
      "id": "976639c0",
      "execution_count": null,
      "outputs": []
    },
    {
      "cell_type": "markdown",
      "metadata": {},
      "source": [
        "```{dot}\n",
        "//| echo: false\n",
        "//| label: fig-ala\n",
        "//| fig-cap: \"A diagram of the ala topology\"\n",
        "//| file: urea-2-top.dot\n",
        "```"
      ],
      "id": "80387237"
    }
  ],
  "metadata": {
    "kernelspec": {
      "name": "python3",
      "language": "python",
      "display_name": "Python 3 (ipykernel)"
    }
  },
  "nbformat": 4,
  "nbformat_minor": 5
}